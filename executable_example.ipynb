{
 "cells": [
  {
   "attachments": {},
   "cell_type": "markdown",
   "metadata": {},
   "source": [
    "# Training Neural Networks"
   ]
  },
  {
   "attachments": {},
   "cell_type": "markdown",
   "metadata": {},
   "source": [
    "## Introduction\n",
    "\n",
    "This executable example is copied from [deeprank2](https://github.com/DeepRank/deeprank2/blob/main/tutorials/training.ipynb)",
    "\n",    
    "<img style=\"margin-left: 1.5rem\" align=\"right\" src=\"images/training_ppi.png\" width=\"400\">\n",
    "\n",
    "This tutorial will demonstrate the use of DeepRank2 for training graph neural networks (GNNs) and convolutional neural networks (CNNs) using protein-protein interface (PPI) or single-residue variant (SRV) data for classification and regression predictive tasks.\n",
    "\n",
    "This tutorial assumes that the PPI data of interest have already been generated and saved as [HDF5 files](https://en.wikipedia.org/wiki/Hierarchical_Data_Format), with the data structure that DeepRank2 expects. This data can be generated using the [data_generation_ppi.ipynb](https://github.com/DeepRank/deeprank2/blob/main/tutorials/data_generation_ppi.ipynb) tutorial or downloaded from Zenodo at [this record address](https://zenodo.org/record/8349335). For more details on the data structure, please refer to the other tutorial, which also contains a detailed description of how the data is generated from PDB files.\n",
    "\n",
    "This tutorial assumes also a basic knowledge of the [PyTorch](https://pytorch.org/) framework, on top of which the machine learning pipeline of DeepRank2 has been developed, for which many online tutorials exist."
   ]
  },
  {
   "attachments": {},
   "cell_type": "markdown",
   "metadata": {},
   "source": [
    "### Input data\n",
    "\n",
    "If you have previously run `data_generation_ppi.ipynb` or `data_generation_srv.ipynb` notebook, then their output can be directly used as input for this tutorial.\n",
    "\n",
    "Alternatively, preprocessed HDF5 files can be downloaded directly from Zenodo at [this record address](https://zenodo.org/record/8349335). To download the data used in this tutorial, please visit the link and download `data_processed.zip`. Unzip it, and save the `data_processed/` folder in the same directory as this notebook. The name and the location of the folder are optional but recommended, as they are the name and the location we will use to refer to the folder throughout the tutorial. \n",
    "\n",
    "Note that the datasets contain only ~100 data points each, which is not enough to develop an impactful predictive model, and the scope of their use is indeed only demonstrative and informative for the users."
   ]
  },
  {
   "attachments": {},
   "cell_type": "markdown",
   "metadata": {},
   "source": [
    "## Utilities"
   ]
  },
  {
   "attachments": {},
   "cell_type": "markdown",
   "metadata": {},
   "source": [
    "### Libraries"
   ]
  },
  {
   "attachments": {},
   "cell_type": "markdown",
   "metadata": {},
   "source": [
    "The libraries needed for this tutorial:"
   ]
  },
  {
   "cell_type": "code",
   "execution_count": null,
   "metadata": {},
   "outputs": [],
   "source": [
    "import logging\n",
    "import glob\n",
    "import os\n",
    "import h5py\n",
    "import pandas as pd\n",
    "from sklearn.model_selection import train_test_split\n",
    "from sklearn.metrics import (\n",
    "    roc_curve,\n",
    "    auc,\n",
    "    precision_score,\n",
    "    recall_score,\n",
    "    accuracy_score,\n",
    "    f1_score)\n",
    "import plotly.express as px\n",
    "import torch\n",
    "import numpy as np\n",
    "np.seterr(divide = 'ignore')\n",
    "np.seterr(invalid='ignore')\n",
    "import pandas as pd\n",
    "logging.basicConfig(level=logging.INFO)\n",
    "from deeprank2.dataset import GraphDataset, GridDataset\n",
    "from deeprank2.trainer import Trainer\n",
    "from deeprank2.neuralnets.gnn.naive_gnn import NaiveNetwork\n",
    "from deeprank2.neuralnets.cnn.model3d import CnnClassification\n",
    "from deeprank2.utils.exporters import HDF5OutputExporter\n",
    "import warnings\n",
    "warnings.filterwarnings('ignore')"
   ]
  },
  {
   "attachments": {},
   "cell_type": "markdown",
   "metadata": {},
   "source": [
    "### Paths and sets\n",
    "\n",
    "The paths for reading the processed data:"
   ]
  },
  {
   "cell_type": "code",
   "execution_count": null,
   "metadata": {},
   "outputs": [],
   "source": [
    "data_type = \"ppi\"\n",
    "level = \"residue\"\n",
    "processed_data_path = os.path.join(\"data_processed\", data_type, level)\n",
    "input_data_path = glob.glob(os.path.join(processed_data_path, '*.hdf5'))\n",
    "output_path = os.path.join(\"data_processed\", data_type, level) # for saving predictions results"
   ]
  },
  {
   "attachments": {},
   "cell_type": "markdown",
   "metadata": {},
   "source": [
    "The `data_type` can be either \"ppi\" or \"srv\", depending on which application the user is most interested in. The `level` can be either \"residue\" or \"atomic\", and refers to the structural resolution, where each node either represents a single residue or a single atom from the molecular structure.\n",
    "\n",
    "In this tutorial, we will use PPI residue-level data by default, but the same code can be applied to SRV or/and atomic-level data with no changes, apart from setting `data_type` and `level` parameters in the cell above."
   ]
  },
  {
   "attachments": {},
   "cell_type": "markdown",
   "metadata": {},
   "source": [
    "A Pandas DataFrame containing data points' IDs and the binary target values can be defined:"
   ]
  },
  {
   "cell_type": "code",
   "execution_count": null,
   "metadata": {},
   "outputs": [],
   "source": [
    "df_dict = {}\n",
    "df_dict['entry'] = []\n",
    "df_dict['target'] = []\n",
    "for fname in input_data_path:\n",
    "    with h5py.File(fname, 'r') as hdf5:\n",
    "        for mol in hdf5.keys():\n",
    "            target_value = float(hdf5[mol][\"target_values\"][\"binary\"][()])\n",
    "            df_dict['entry'].append(mol)\n",
    "            df_dict['target'].append(target_value)\n",
    "\n",
    "df = pd.DataFrame(data=df_dict)\n",
    "df.head()"
   ]
  },
  {
   "attachments": {},
   "cell_type": "markdown",
   "metadata": {},
   "source": [
    "As explained in [data_generation_ppi.ipynb](https://github.com/DeepRank/deeprank2/blob/main/tutorials/data_generation_ppi.ipynb), for each data point there are two targets: \"BA\" and \"binary\". The first represents the strength of the interaction between two molecules that bind reversibly (interact) in nM, while the second represents its binary mapping, being 0 (BA > 500 nM) a not-binding complex and 1 (BA <= 500 nM) binding one.\n",
    "\n",
    "For SRVs, each data point has a single target, \"binary\", which is 0 if the SRV is considered benign, and 1 if it is pathogenic, as explained in [data_generation_srv.ipynb](https://github.com/DeepRank/deeprank-core/blob/main/tutorials/data_generation_srv.ipynb). \n",
    "\n",
    "The pandas DataFrame `df` is used only to split data points into training, validation and test sets according to the \"binary\" target - using target stratification to keep the proportion of 0s and 1s constant among the different sets. Training and validation sets will be used during the training for updating the network weights, while the test set will be held out as an independent test and will be used later for the model evaluation."
   ]
  },
  {
   "cell_type": "code",
   "execution_count": null,
   "metadata": {},
   "outputs": [],
   "source": [
    "df_train, df_test = train_test_split(df, test_size=0.1, stratify=df.target, random_state=42)\n",
    "df_train, df_valid = train_test_split(df_train, test_size=0.2, stratify=df_train.target, random_state=42)\n",
    "\n",
    "print(f'Data statistics:\\n')\n",
    "print(f'Total samples: {len(df)}\\n')\n",
    "print(f'Training set: {len(df_train)} samples, {round(100*len(df_train)/len(df))}%')\n",
    "print(f'\\t- Class 0: {len(df_train[df_train.target == 0])} samples, {round(100*len(df_train[df_train.target == 0])/len(df_train))}%')\n",
    "print(f'\\t- Class 1: {len(df_train[df_train.target == 1])} samples, {round(100*len(df_train[df_train.target == 1])/len(df_train))}%')\n",
    "print(f'Validation set: {len(df_valid)} samples, {round(100*len(df_valid)/len(df))}%')\n",
    "print(f'\\t- Class 0: {len(df_valid[df_valid.target == 0])} samples, {round(100*len(df_valid[df_valid.target == 0])/len(df_valid))}%')\n",
    "print(f'\\t- Class 1: {len(df_valid[df_valid.target == 1])} samples, {round(100*len(df_valid[df_valid.target == 1])/len(df_valid))}%')\n",
    "print(f'Testing set: {len(df_test)} samples, {round(100*len(df_test)/len(df))}%')\n",
    "print(f'\\t- Class 0: {len(df_test[df_test.target == 0])} samples, {round(100*len(df_test[df_test.target == 0])/len(df_test))}%')\n",
    "print(f'\\t- Class 1: {len(df_test[df_test.target == 1])} samples, {round(100*len(df_test[df_test.target == 1])/len(df_test))}%')"
   ]
  },
  {
   "attachments": {},
   "cell_type": "markdown",
   "metadata": {},
   "source": [
    "## Classification example\n",
    "\n",
    "A GNN and a CNN can be trained for a classification predictive task, which consists in predicting the \"binary\" target values. "
   ]
  },
  {
   "attachments": {},
   "cell_type": "markdown",
   "metadata": {},
   "source": [
    "### GNN"
   ]
  },
  {
   "attachments": {},
   "cell_type": "markdown",
   "metadata": {},
   "source": [
    "#### GraphDataset"
   ]
  },
  {
   "attachments": {},
   "cell_type": "markdown",
   "metadata": {},
   "source": [
    "For training GNNs the user can create `GraphDataset` instances. This class inherits from `DeeprankDataset` class, which in turns inherits from `Dataset` [PyTorch geometric class](https://pytorch-geometric.readthedocs.io/en/latest/_modules/torch_geometric/data/dataset.html), a base class for creating graph datasets.\n",
    "\n",
    "A few notes about `GraphDataset` parameters:\n",
    "- By default, all features contained in the HDF5 files are used, but the user can specify `node_features` and `edge_features` in `GraphDataset` if not all of them are needed. See the [docs](https://deeprank2.readthedocs.io/en/latest/features.html) for more details about all the possible pre-implemented features. \n",
    "- For regression, `task` should be set to `regress` and the `target` to `BA`, which is a continuous variable and therefore suitable for regression tasks.\n",
    "- For the `GraphDataset` class it is possible to define a dictionary to indicate which transformations to apply to the features, being the transformations lambda functions and/or standardization.\n",
    "  - If the `standardize` key is `True`, standardization is applied after transformation. Standardization consists in applying the following formula on each feature's value: ${x' = \\frac{x - \\mu}{\\sigma}}$, being ${\\mu}$ the mean and ${\\sigma}$ the standard deviation. Standardization is a scaling method where the values are centered around mean with a unit standard deviation.\n",
    "  - The transformation to apply can be speficied as a lambda function as a value of the key `transform`, which defaults to `None`.\n",
    "  - Since in the provided example standardization is applied, the training features' means and standard deviations need to be used for scaling validation and test sets. For doing so, `train` and `dataset_train` parameters are used. When `train` is set as `False`, a `dataset_train` of the same class must be provided and it will be used to scale the validation/testing sets according to its features values. You need to pass `features_transform` to the training dataset only, since in other cases it will be ignored and only the one of `dataset_train` will be considered. \n",
    "  - Note that transformations have not currently been implemented for the `GridDataset` class.  \n",
    "  - In the example below a logarithmic transformation and then the standardization are applied to all the features. It is also possible to use specific features as keys for indicating that transformation and/or standardization need to be apply to few features only."
   ]
  },
  {
   "cell_type": "code",
   "execution_count": null,
   "metadata": {},
   "outputs": [],
   "source": [
    "target = \"binary\"\n",
    "task = \"classif\"\n",
    "node_features = [\"res_type\"]\n",
    "edge_features = [\"distance\"]\n",
    "features_transform = {'all': {'transform': lambda x: np.cbrt(x), 'standardize': True}}\n",
    "\n",
    "print('Loading training data...')\n",
    "dataset_train = GraphDataset(\n",
    "    hdf5_path = input_data_path,\n",
    "    subset = list(df_train.entry), # selects only data points with ids in df_train.entry\n",
    "    node_features = node_features,\n",
    "    edge_features = edge_features,\n",
    "    features_transform = features_transform,\n",
    "    target = target,\n",
    "    task = task\n",
    ")\n",
    "print('\\nLoading validation data...')\n",
    "dataset_val = GraphDataset(\n",
    "    hdf5_path = input_data_path,\n",
    "    subset = list(df_valid.entry), # selects only data points with ids in df_valid.entry\n",
    "    train = False,\n",
    "    dataset_train = dataset_train\n",
    ")\n",
    "print('\\nLoading test data...')\n",
    "dataset_test = GraphDataset(\n",
    "    hdf5_path = input_data_path,\n",
    "    subset = list(df_test.entry), # selects only data points with ids in df_test.entry\n",
    "    train = False,\n",
    "    dataset_train = dataset_train\n",
    ")"
   ]
  },
  {
   "attachments": {},
   "cell_type": "markdown",
   "metadata": {},
   "source": [
    "#### Trainer\n",
    "\n",
    "The class `Trainer` implements training, validation and testing of PyTorch-based neural networks. "
   ]
  },
  {
   "attachments": {},
   "cell_type": "markdown",
   "metadata": {},
   "source": [
    "A few notes about `Trainer` parameters:\n",
    "- `neuralnet` can be any neural network class that inherits from `torch.nn.Module`, and it shouldn't be specific to regression or classification in terms of output shape. The `Trainer` class takes care of formatting the output shape according to the task. This tutorial uses a simple network, `NaiveNetwork` (implemented in `deeprank2.neuralnets.gnn.naive_gnn`). All GNN architectures already implemented in the pakcage can be found [here](https://github.com/DeepRank/deeprank-core/tree/main/deeprank2/neuralnets/gnn) and can be used for training or as a basis for implementing new ones.\n",
    "- `class_weights` is used for classification tasks only and assigns class weights based on the training dataset content to account for any potential inbalance between the classes. In this case the dataset is balanced (50% 0 and 50% 1), so it is not necessary to use it. It defaults to False.\n",
    "- `cuda` and `ngpu` are used for indicating whether to use CUDA and how many GPUs. By default, CUDA is not used and `ngpu` is 0.\n",
    "- The user can specify a deeprank2 exporter or a custom one in `output_exporters` parameter, together with the path where to save the results. Exporters are used for storing predictions information collected later on during training and testing. Later the results saved by `HDF5OutputExporter` will be read and evaluated."
   ]
  },
  {
   "attachments": {},
   "cell_type": "markdown",
   "metadata": {},
   "source": [
    "##### Training"
   ]
  },
  {
   "cell_type": "code",
   "execution_count": null,
   "metadata": {},
   "outputs": [],
   "source": [
    "trainer = Trainer(\n",
    "    neuralnet = NaiveNetwork,\n",
    "    dataset_train = dataset_train,\n",
    "    dataset_val = dataset_val,\n",
    "    dataset_test = dataset_test,\n",
    "    output_exporters = [HDF5OutputExporter(os.path.join(output_path, f\"gnn_{task}\"))]\n",
    ")"
   ]
  },
  {
   "attachments": {},
   "cell_type": "markdown",
   "metadata": {},
   "source": [
    "The default optimizer is `torch.optim.Adam`. It is possible to specify optimizer's parameters or to use another PyTorch optimizer object:"
   ]
  },
  {
   "cell_type": "code",
   "execution_count": null,
   "metadata": {},
   "outputs": [],
   "source": [
    "optimizer = torch.optim.SGD\n",
    "lr = 1e-3\n",
    "weight_decay = 0.001\n",
    "\n",
    "trainer.configure_optimizers(optimizer, lr, weight_decay)"
   ]
  },
  {
   "attachments": {},
   "cell_type": "markdown",
   "metadata": {},
   "source": [
    "The default loss function for classification is `torch.nn.CrossEntropyLoss` and for regression it is `torch.nn.MSELoss`. It is also possible to set some other PyTorch loss functions by using `Trainer.set_lossfunction` method, although not all are currently implemented.\n",
    "\n",
    "Then the model can be trained using the `train()` method of the `Trainer` class.\n",
    "\n",
    "A few notes about `train()` method parameters:\n",
    "- `earlystop_patience`, `earlystop_maxgap` and `min_epoch` are used for controlling early stopping logic. `earlystop_patience` indicates the number of epochs after which the training ends if the validation loss does not improve. `earlystop_maxgap` indicated the maximum difference allowed between validation and training loss, and `min_epoch` is the minimum number of epochs to be reached before evaluating `maxgap`.\n",
    "- If `validate` is set to `True`, validation is performed on an independent dataset, which has been called `dataset_val` few cells above. If set to `False`, validation is performed on the training dataset itself (not recommended).\n",
    "- `num_workers` can be set for indicating how many subprocesses to use for data loading. The default is 0 and it means that the data will be loaded in the main process."
   ]
  },
  {
   "cell_type": "code",
   "execution_count": null,
   "metadata": {},
   "outputs": [],
   "source": [
    "epochs = 20\n",
    "batch_size = 8\n",
    "earlystop_patience = 5\n",
    "earlystop_maxgap = 0.1\n",
    "min_epoch = 10\n",
    "\n",
    "trainer.train(\n",
    "    nepoch = epochs,\n",
    "    batch_size = batch_size,\n",
    "    earlystop_patience = earlystop_patience,\n",
    "    earlystop_maxgap = earlystop_maxgap,\n",
    "    min_epoch = min_epoch,\n",
    "    validate = True,\n",
    "    filename = os.path.join(output_path, f\"gnn_{task}\", \"model.pth.tar\"))\n",
    "\n",
    "epoch = trainer.epoch_saved_model\n",
    "print(f\"Model saved at epoch {epoch}\")\n",
    "pytorch_total_params = sum(p.numel() for p in trainer.model.parameters())\n",
    "print(f'Total # of parameters: {pytorch_total_params}')\n",
    "pytorch_trainable_params = sum(p.numel() for p in trainer.model.parameters() if p.requires_grad)\n",
    "print(f'Total # of trainable parameters: {pytorch_trainable_params}')"
   ]
  },
  {
   "attachments": {},
   "cell_type": "markdown",
   "metadata": {},
   "source": [
    "##### Testing\n",
    "\n",
    "And the trained model can be tested on `dataset_test`:"
   ]
  },
  {
   "cell_type": "code",
   "execution_count": null,
   "metadata": {},
   "outputs": [],
   "source": [
    "trainer.test()"
   ]
  },
  {
   "attachments": {},
   "cell_type": "markdown",
   "metadata": {},
   "source": [
    "##### Results visualization\n",
    "\n",
    "Finally, the results saved by `HDF5OutputExporter` can be inspected, which can be found in the `data/ppi/gnn_classif/` folder in the form of an HDF5 file, `output_exporter.hdf5`. Note that the folder contains the saved pre-trained model as well.\n",
    "\n",
    "`output_exporter.hdf5` contains [HDF5 Groups](https://docs.h5py.org/en/stable/high/group.html) which refer to each phase, e.g. training and testing if both are run, only one of them otherwise. Training phase includes validation results as well. This HDF5 file can be read as a Pandas Dataframe:"
   ]
  },
  {
   "cell_type": "code",
   "execution_count": null,
   "metadata": {},
   "outputs": [],
   "source": [
    "output_train = pd.read_hdf(os.path.join(output_path, f\"gnn_{task}\", \"output_exporter.hdf5\"), key=\"training\")\n",
    "output_test = pd.read_hdf(os.path.join(output_path, f\"gnn_{task}\", \"output_exporter.hdf5\"), key=\"testing\")\n",
    "output_train.head()"
   ]
  },
  {
   "attachments": {},
   "cell_type": "markdown",
   "metadata": {},
   "source": [
    "The dataframes contain `phase`, `epoch`, `entry`, `output`, `target`, and `loss` columns, and can be easily used to visualize the results.\n",
    "\n",
    "For example, the loss across the epochs can be plotted for the training and the validation sets:"
   ]
  },
  {
   "cell_type": "code",
   "execution_count": null,
   "metadata": {},
   "outputs": [],
   "source": [
    "fig = px.line(\n",
    "    output_train,\n",
    "    x='epoch',\n",
    "    y='loss',\n",
    "    color='phase',\n",
    "    markers=True)\n",
    "\n",
    "fig.add_vline(x=trainer.epoch_saved_model, line_width=3, line_dash=\"dash\", line_color=\"green\")\n",
    "\n",
    "fig.update_layout(\n",
    "    xaxis_title='Epoch #',\n",
    "    yaxis_title='Loss',\n",
    "    title='Loss vs epochs - GNN training',\n",
    "    width=700, height=400,\n",
    ")"
   ]
  },
  {
   "attachments": {},
   "cell_type": "markdown",
   "metadata": {},
   "source": [
    "And now a few metrics of interest for classification tasks can be printed out: the [area under the ROC curve](https://en.wikipedia.org/wiki/Receiver_operating_characteristic#Area_under_the_curve) (AUC), and for a threshold of 0.5 the [precision, recall, accuracy and f1 score](https://en.wikipedia.org/wiki/Precision_and_recall#Definition)."
   ]
  },
  {
   "cell_type": "code",
   "execution_count": null,
   "metadata": {},
   "outputs": [],
   "source": [
    "threshold = 0.5\n",
    "df = pd.concat([output_train, output_test])\n",
    "df_plot = df[(df.epoch == trainer.epoch_saved_model) | ((df.epoch == trainer.epoch_saved_model) & (df.phase == 'testing'))]\n",
    "\n",
    "for idx, set in enumerate(['training', 'validation', 'testing']):\n",
    "    df_plot_phase = df_plot[(df_plot.phase == set)]\n",
    "    y_true = df_plot_phase.target\n",
    "    y_score = np.array(df_plot_phase.output.values.tolist())[:, 1]\n",
    "\n",
    "    print(f'\\nMetrics for {set}:')\n",
    "    fpr_roc, tpr_roc, thr_roc = roc_curve(y_true, y_score)\n",
    "    auc_score = auc(fpr_roc, tpr_roc)\n",
    "    print(f'AUC: {round(auc_score, 1)}')\n",
    "    print(f'Considering a threshold of {threshold}')\n",
    "    y_pred = (y_score > threshold)*1\n",
    "    print(f'- Precision: {round(precision_score(y_true, y_pred), 1)}')\n",
    "    print(f'- Recall: {round(recall_score(y_true, y_pred), 1)}')\n",
    "    print(f'- Accuracy: {round(accuracy_score(y_true, y_pred), 1)}')\n",
    "    print(f'- F1: {round(f1_score(y_true, y_pred), 1)}')"
   ]
  },
  {
   "attachments": {},
   "cell_type": "markdown",
   "metadata": {},
   "source": [
    "Note that the poor performance of this network is due to the small number of datapoints used in this tutorial. For a more reliable network we suggest using a number of data points on the order of at least tens of thousands.\n",
    "\n",
    "The same exercise can be repeated but using grids instead of graphs and CNNs instead of GNNs."
   ]
  },
  {
   "attachments": {},
   "cell_type": "markdown",
   "metadata": {},
   "source": [
    "### CNN"
   ]
  },
  {
   "attachments": {},
   "cell_type": "markdown",
   "metadata": {},
   "source": [
    "#### GridDataset"
   ]
  },
  {
   "attachments": {},
   "cell_type": "markdown",
   "metadata": {},
   "source": [
    "For training CNNs the user can create `GridDataset` instances.\n",
    "\n",
    "A few notes about `GridDataset` parameters:\n",
    "- By default, all features contained in the HDF5 files are used, but the user can specify `features` in `GridDataset` if not all of them are needed. Since grids features are derived from node and edge features mapped from graphs to grid, the easiest way to see which features are available is to look at the HDF5 file, as explained in detail in `data_generation_ppi.ipynb` and `data_generation_srv.ipynb`, section \"Other tools\".  \n",
    "- As is the case for a `GraphDataset`, `task` can be assigned to `regress` and `target` to `BA` to perform a regression task. As mentioned previously, we do not provide sample data to perform a regression task for SRVs."
   ]
  },
  {
   "cell_type": "code",
   "execution_count": null,
   "metadata": {},
   "outputs": [],
   "source": [
    "target = \"binary\"\n",
    "task = \"classif\"\n",
    "\n",
    "print('Loading training data...')\n",
    "dataset_train = GridDataset(\n",
    "    hdf5_path = input_data_path,\n",
    "    subset = list(df_train.entry), # selects only data points with ids in df_train.entry\n",
    "    target = target,\n",
    "    task = task\n",
    ")\n",
    "print('\\nLoading validation data...')\n",
    "dataset_val = GridDataset(\n",
    "    hdf5_path = input_data_path,\n",
    "    subset = list(df_valid.entry), # selects only data points with ids in df_valid.entry\n",
    "    train = False,\n",
    "    dataset_train = dataset_train\n",
    ")\n",
    "print('\\nLoading test data...')\n",
    "dataset_test = GridDataset(\n",
    "    hdf5_path = input_data_path,\n",
    "    subset = list(df_test.entry), # selects only data points with ids in df_test.entry\n",
    "    train = False,\n",
    "    dataset_train = dataset_train \n",
    ")"
   ]
  },
  {
   "attachments": {},
   "cell_type": "markdown",
   "metadata": {},
   "source": [
    "#### Trainer\n",
    "\n",
    "As for graphs, the class `Trainer` is used for training, validation and testing of the PyTorch-based CNN. "
   ]
  },
  {
   "attachments": {},
   "cell_type": "markdown",
   "metadata": {},
   "source": [
    "- Also in this case, `neuralnet` can be any neural network class that inherits from `torch.nn.Module`, and it shouldn't be specific to regression or classification in terms of output shape. This tutorial uses `CnnClassification` (implemented in `deeprank2.neuralnets.cnn.model3d`). All CNN architectures already implemented in the pakcage can be found [here](https://github.com/DeepRank/deeprank2/tree/main/deeprank2/neuralnets/cnn) and can be used for training or as a basis for implementing new ones.\n",
    "- The rest of the `Trainer` parameters can be used as explained already for graphs."
   ]
  },
  {
   "attachments": {},
   "cell_type": "markdown",
   "metadata": {},
   "source": [
    "##### Training"
   ]
  },
  {
   "cell_type": "code",
   "execution_count": null,
   "metadata": {},
   "outputs": [],
   "source": [
    "optimizer = torch.optim.SGD\n",
    "lr = 1e-3\n",
    "weight_decay = 0.001\n",
    "epochs = 20\n",
    "batch_size = 8\n",
    "earlystop_patience = 5\n",
    "earlystop_maxgap = 0.1\n",
    "min_epoch = 10\n",
    "\n",
    "trainer = Trainer(\n",
    "    neuralnet = CnnClassification,\n",
    "    dataset_train = dataset_train,\n",
    "    dataset_val = dataset_val,\n",
    "    dataset_test = dataset_test,\n",
    "    output_exporters = [HDF5OutputExporter(os.path.join(output_path, f\"cnn_{task}\"))]\n",
    ")\n",
    "\n",
    "trainer.configure_optimizers(optimizer, lr, weight_decay)\n",
    "\n",
    "trainer.train(\n",
    "    nepoch = epochs,\n",
    "    batch_size = batch_size,\n",
    "    earlystop_patience = earlystop_patience,\n",
    "    earlystop_maxgap = earlystop_maxgap,\n",
    "    min_epoch = min_epoch,\n",
    "    validate = True,\n",
    "    filename = os.path.join(output_path, f\"cnn_{task}\", \"model.pth.tar\"))\n",
    "\n",
    "epoch = trainer.epoch_saved_model\n",
    "print(f\"Model saved at epoch {epoch}\")\n",
    "pytorch_total_params = sum(p.numel() for p in trainer.model.parameters())\n",
    "print(f'Total # of parameters: {pytorch_total_params}')\n",
    "pytorch_trainable_params = sum(p.numel() for p in trainer.model.parameters() if p.requires_grad)\n",
    "print(f'Total # of trainable parameters: {pytorch_trainable_params}')"
   ]
  },
  {
   "attachments": {},
   "cell_type": "markdown",
   "metadata": {},
   "source": [
    "##### Testing\n",
    "\n",
    "And the trained model can be tested on `dataset_test`:"
   ]
  },
  {
   "cell_type": "code",
   "execution_count": null,
   "metadata": {},
   "outputs": [],
   "source": [
    "trainer.test()"
   ]
  },
  {
   "attachments": {},
   "cell_type": "markdown",
   "metadata": {},
   "source": [
    "##### Results visualization\n",
    "\n",
    "As for GNNs, the results saved by `HDF5OutputExporter` can be inspected, and are saved in the `data/ppi/cnn_classif/` or `data/srv/cnn_classif/` folder in the form of an HDF5 file, `output_exporter.hdf5`, together with the saved pre-trained model. "
   ]
  },
  {
   "cell_type": "code",
   "execution_count": null,
   "metadata": {},
   "outputs": [],
   "source": [
    "output_train = pd.read_hdf(os.path.join(output_path, f\"cnn_{task}\", \"output_exporter.hdf5\"), key=\"training\")\n",
    "output_test = pd.read_hdf(os.path.join(output_path, f\"cnn_{task}\", \"output_exporter.hdf5\"), key=\"testing\")\n",
    "output_train.head()"
   ]
  },
  {
   "attachments": {},
   "cell_type": "markdown",
   "metadata": {},
   "source": [
    "Also in this case, the loss across the epochs can be plotted for the training and the validation sets:"
   ]
  },
  {
   "cell_type": "code",
   "execution_count": null,
   "metadata": {},
   "outputs": [],
   "source": [
    "fig = px.line(\n",
    "    output_train,\n",
    "    x='epoch',\n",
    "    y='loss',\n",
    "    color='phase',\n",
    "    markers=True)\n",
    "\n",
    "fig.add_vline(x=trainer.epoch_saved_model, line_width=3, line_dash=\"dash\", line_color=\"green\")\n",
    "\n",
    "fig.update_layout(\n",
    "    xaxis_title='Epoch #',\n",
    "    yaxis_title='Loss',\n",
    "    title='Loss vs epochs - CNN training',\n",
    "    width=700, height=400,\n",
    ")"
   ]
  },
  {
   "attachments": {},
   "cell_type": "markdown",
   "metadata": {},
   "source": [
    "And some metrics of interest for classification tasks:"
   ]
  },
  {
   "cell_type": "code",
   "execution_count": null,
   "metadata": {},
   "outputs": [],
   "source": [
    "threshold = 0.5\n",
    "df = pd.concat([output_train, output_test])\n",
    "df_plot = df[(df.epoch == trainer.epoch_saved_model) | ((df.epoch == trainer.epoch_saved_model) & (df.phase == 'testing'))]\n",
    "\n",
    "for idx, set in enumerate(['training', 'validation', 'testing']):\n",
    "    df_plot_phase = df_plot[(df_plot.phase == set)]\n",
    "    y_true = df_plot_phase.target\n",
    "    y_score = np.array(df_plot_phase.output.values.tolist())[:, 1]\n",
    "\n",
    "    print(f'\\nMetrics for {set}:')\n",
    "    fpr_roc, tpr_roc, thr_roc = roc_curve(y_true, y_score)\n",
    "    auc_score = auc(fpr_roc, tpr_roc)\n",
    "    print(f'AUC: {round(auc_score, 1)}')\n",
    "    print(f'Considering a threshold of {threshold}')\n",
    "    y_pred = (y_score > threshold)*1\n",
    "    print(f'- Precision: {round(precision_score(y_true, y_pred), 1)}')\n",
    "    print(f'- Recall: {round(recall_score(y_true, y_pred), 1)}')\n",
    "    print(f'- Accuracy: {round(accuracy_score(y_true, y_pred), 1)}')\n",
    "    print(f'- F1: {round(f1_score(y_true, y_pred), 1)}')"
   ]
  },
  {
   "attachments": {},
   "cell_type": "markdown",
   "metadata": {},
   "source": [
    "It's important to note that the dataset used in this analysis is not sufficiently large to provide conclusive and reliable insights. Depending on your specific application, you might find regression, classification, GNNs, and/or CNNs to be valuable options. Feel free to choose the approach that best aligns with your particular problem!"
   ]
  }
 ],
 "metadata": {
  "kernelspec": {
   "display_name": "deeprank2",
   "language": "python",
   "name": "python3"
  },
  "language_info": {
   "codemirror_mode": {
    "name": "ipython",
    "version": 3
   },
   "file_extension": ".py",
   "mimetype": "text/x-python",
   "name": "python",
   "nbconvert_exporter": "python",
   "pygments_lexer": "ipython3",
   "version": "3.9.16"
  },
  "orig_nbformat": 4
 },
 "nbformat": 4,
 "nbformat_minor": 2
}
